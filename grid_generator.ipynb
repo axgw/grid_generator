{
 "cells": [
  {
   "cell_type": "markdown",
   "id": "6d32148d-9779-4d20-8d99-ffc41ab0b06b",
   "metadata": {},
   "source": [
    "## Image grid script"
   ]
  },
  {
   "cell_type": "code",
   "execution_count": 145,
   "id": "61f8be99-ee6c-4616-9f50-44235b6b080a",
   "metadata": {},
   "outputs": [],
   "source": [
    "# Import Open CV, Matplotlib and Numpy\n",
    "import cv2\n",
    "import matplotlib.pyplot as plt\n",
    "import numpy as np\n",
    "\n",
    "def draw_grid(image, grid_shape):\n",
    "    # \n",
    "    h, w, _ = image.shape\n",
    "    rows, cols = grid_shape\n",
    "    dy, dx = h/rows, w/cols\n",
    "    \n",
    "    # Draw vertical lines\n",
    "    for x in np.linspace(start=dx, stop=w-dx, num=cols-1):\n",
    "        x = int(round(x))\n",
    "        cv2.line(image, (x, 0), (x, h), color=(0,255,0), thickness=2)\n",
    "    # Draw horizontal lines\n",
    "    for y in np.linspace(start=dy, stop=h-dy, num=rows-1):\n",
    "        y = int(round(y))\n",
    "        cv2.line(image, (0, y), (w, y), color=(0,255,0), thickness=2)\n",
    "        \n",
    "\n",
    "def main(path, grid_shape):\n",
    "    image = cv2.imread(path)\n",
    "\n",
    "    draw_grid(image, grid_shape)\n",
    "    \n",
    "    cv2.imwrite(\"D://Wallpapers/Cara_de_sachiel_lastimada_grid.png\", image)"
   ]
  },
  {
   "cell_type": "code",
   "execution_count": 146,
   "id": "7223ace8-d804-4c02-bfea-8897d104d878",
   "metadata": {},
   "outputs": [],
   "source": [
    "main(\"D://Wallpapers/Cara_de_sachiel_lastimada.png\", (4, 4))"
   ]
  }
 ],
 "metadata": {
  "kernelspec": {
   "display_name": "Python 3 (ipykernel)",
   "language": "python",
   "name": "python3"
  },
  "language_info": {
   "codemirror_mode": {
    "name": "ipython",
    "version": 3
   },
   "file_extension": ".py",
   "mimetype": "text/x-python",
   "name": "python",
   "nbconvert_exporter": "python",
   "pygments_lexer": "ipython3",
   "version": "3.10.6"
  }
 },
 "nbformat": 4,
 "nbformat_minor": 5
}
